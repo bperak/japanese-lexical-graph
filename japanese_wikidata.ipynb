{
  "nbformat": 4,
  "nbformat_minor": 0,
  "metadata": {
    "colab": {
      "provenance": []
    },
    "kernelspec": {
      "name": "python3",
      "display_name": "Python 3"
    },
    "language_info": {
      "name": "python"
    }
  },
  "cells": [
    {
      "cell_type": "markdown",
      "source": [
        "https://chatgpt.com/g/g-p-67abc21fef088191851e82de2cbad81c-icarus-opatija-presentation-japanese-networks/c/67abc3e8-7304-8013-9150-44d69ae2246b"
      ],
      "metadata": {
        "id": "OfH3WwDFIQ0y"
      }
    },
    {
      "cell_type": "markdown",
      "source": [
        "https://www.icarushrvatska.hr/\n",
        "\n",
        "https://drive.google.com/file/d/1g5uMoRqVytStIV7KLT-7VW6Xrn0VaAsq/view\n"
      ],
      "metadata": {
        "id": "oQQ2-R_gLDvO"
      }
    },
    {
      "cell_type": "markdown",
      "source": [
        "Abstract\n",
        "The presentation, titled “Extraction of Semantic Networks using Contemporary AI Based Methods,” explores modern approaches for automatically extracting and analyzing lexical semantic networks within cultural heritage contexts. Focusing on Japanese examples—illustrated here by the term \"Samurai\"—the research demonstrates how advanced AI algorithms can identify key lexical elements and reveal their interconnections, such as synonyms, classifications, and relation strengths, from large text corpora.\n",
        "\n",
        "By leveraging integrated data sources like Wikidata, the approach retrieves relevant metadata, including concise definitions, classification attributes (e.g., instance of, subclass of), and even visual elements such as associated images. The method utilizes SPARQL queries on established knowledge graphs to pinpoint the entity corresponding to the target term and to extract its core attributes without delving into excessive detail.\n",
        "\n",
        "This dynamic extraction process results in interactive network representations that enrich digital cultural archives and museum collections. Users can engage with the network nodes to access supplementary information about the term, thereby gaining insights into historical narratives and cultural significance. The example of \"Samurai\" is abstracted to illustrate the process in a simplified manner, emphasizing the potential of these AI-based methods to enhance the interpretation and presentation of cultural heritage.\n",
        "\n",
        "Overall, this approach provides a scalable and efficient tool for digital preservation and scholarly exploration, opening new avenues for research and public engagement in the realm of cultural heritage."
      ],
      "metadata": {
        "id": "kK49mFyPK8Gg"
      }
    },
    {
      "cell_type": "code",
      "source": [
        "# Instalirajte SPARQLWrapper ako već nije instaliran\n",
        "!pip install SPARQLWrapper"
      ],
      "metadata": {
        "colab": {
          "base_uri": "https://localhost:8080/"
        },
        "id": "NP8lvQmTAb1L",
        "outputId": "cc5efa78-94a3-4aa5-e186-c1262119c37a"
      },
      "execution_count": 1,
      "outputs": [
        {
          "output_type": "stream",
          "name": "stdout",
          "text": [
            "Collecting SPARQLWrapper\n",
            "  Downloading SPARQLWrapper-2.0.0-py3-none-any.whl.metadata (2.0 kB)\n",
            "Collecting rdflib>=6.1.1 (from SPARQLWrapper)\n",
            "  Downloading rdflib-7.1.3-py3-none-any.whl.metadata (11 kB)\n",
            "Requirement already satisfied: pyparsing<4,>=2.1.0 in /usr/local/lib/python3.11/dist-packages (from rdflib>=6.1.1->SPARQLWrapper) (3.2.1)\n",
            "Downloading SPARQLWrapper-2.0.0-py3-none-any.whl (28 kB)\n",
            "Downloading rdflib-7.1.3-py3-none-any.whl (564 kB)\n",
            "\u001b[2K   \u001b[90m━━━━━━━━━━━━━━━━━━━━━━━━━━━━━━━━━━━━━━━━\u001b[0m \u001b[32m564.9/564.9 kB\u001b[0m \u001b[31m19.7 MB/s\u001b[0m eta \u001b[36m0:00:00\u001b[0m\n",
            "\u001b[?25hInstalling collected packages: rdflib, SPARQLWrapper\n",
            "Successfully installed SPARQLWrapper-2.0.0 rdflib-7.1.3\n"
          ]
        }
      ]
    },
    {
      "cell_type": "code",
      "source": [
        "from SPARQLWrapper import SPARQLWrapper, JSON\n",
        "\n",
        "# Definiramo Wikidata SPARQL endpoint\n",
        "sparql = SPARQLWrapper(\"https://query.wikidata.org/sparql\")\n",
        "\n",
        "# Postavite japanski kanđi za pretragu (primjer: \"文化\" za \"culture\")\n",
        "japanese_word = \"桜\"\n",
        "\n",
        "# SPARQL upit pronalazi entitete s japanskim labelom i dohvaća proširene informacije:\n",
        "query = f\"\"\"\n",
        "SELECT ?item ?itemLabel ?definition\n",
        "       ?instanceOf ?instanceOfLabel\n",
        "       ?subclassOf ?subclassOfLabel\n",
        "       ?hasPart ?hasPartLabel\n",
        "       ?partOf ?partOfLabel\n",
        "       ?officialWebsite\n",
        "       ?image\n",
        "WHERE {{\n",
        "  ?item rdfs:label \"{japanese_word}\"@ja.\n",
        "  OPTIONAL {{\n",
        "    ?item schema:description ?definition .\n",
        "    FILTER(LANG(?definition) = \"en\")\n",
        "  }}\n",
        "  OPTIONAL {{ ?item wdt:P31 ?instanceOf. }}\n",
        "  OPTIONAL {{ ?item wdt:P279 ?subclassOf. }}\n",
        "  OPTIONAL {{ ?item wdt:P527 ?hasPart. }}\n",
        "  OPTIONAL {{ ?item wdt:P361 ?partOf. }}\n",
        "  OPTIONAL {{ ?item wdt:P856 ?officialWebsite. }}\n",
        "  OPTIONAL {{ ?item wdt:P18 ?image. }}\n",
        "  SERVICE wikibase:label {{ bd:serviceParam wikibase:language \"en,hr,ja\". }}\n",
        "}}\n",
        "LIMIT 20\n",
        "\"\"\"\n",
        "\n",
        "sparql.setQuery(query)\n",
        "sparql.setReturnFormat(JSON)\n",
        "results = sparql.query().convert()\n",
        "\n",
        "# Grupiramo rezultate po entitetu – jedan entitet može imati više redaka za različite opcionalne podatke\n",
        "data = {}\n",
        "\n",
        "for result in results[\"results\"][\"bindings\"]:\n",
        "    item = result[\"item\"][\"value\"]\n",
        "    if item not in data:\n",
        "        data[item] = {\n",
        "            \"Naziv\": result.get(\"itemLabel\", {}).get(\"value\", \"\"),\n",
        "            \"Definicija\": result.get(\"definition\", {}).get(\"value\", \"Nema definicije\"),\n",
        "            \"Instance of\": set(),\n",
        "            \"Subclass of\": set(),\n",
        "            \"Has part\": set(),\n",
        "            \"Part of\": set(),\n",
        "            \"Official Website\": set(),\n",
        "            \"Slika\": result.get(\"image\", {}).get(\"value\", None)\n",
        "        }\n",
        "    if \"instanceOfLabel\" in result:\n",
        "        data[item][\"Instance of\"].add(result[\"instanceOfLabel\"][\"value\"])\n",
        "    if \"subclassOfLabel\" in result:\n",
        "        data[item][\"Subclass of\"].add(result[\"subclassOfLabel\"][\"value\"])\n",
        "    if \"hasPartLabel\" in result:\n",
        "        data[item][\"Has part\"].add(result[\"hasPartLabel\"][\"value\"])\n",
        "    if \"partOfLabel\" in result:\n",
        "        data[item][\"Part of\"].add(result[\"partOfLabel\"][\"value\"])\n",
        "    if \"officialWebsite\" in result:\n",
        "        data[item][\"Official Website\"].add(result[\"officialWebsite\"][\"value\"])\n",
        "\n",
        "# Ispis rezultata\n",
        "if data:\n",
        "    for item, details in data.items():\n",
        "        print(\"Entitet:\", item)\n",
        "        print(\"Naziv:\", details[\"Naziv\"])\n",
        "        print(\"Definicija:\", details[\"Definicija\"])\n",
        "        if details[\"Instance of\"]:\n",
        "            print(\"Instance of:\", \", \".join(details[\"Instance of\"]))\n",
        "        if details[\"Subclass of\"]:\n",
        "            print(\"Subclass of:\", \", \".join(details[\"Subclass of\"]))\n",
        "        if details[\"Has part\"]:\n",
        "            print(\"Has part:\", \", \".join(details[\"Has part\"]))\n",
        "        if details[\"Part of\"]:\n",
        "            print(\"Part of:\", \", \".join(details[\"Part of\"]))\n",
        "        if details[\"Official Website\"]:\n",
        "            print(\"Official Website:\", \", \".join(details[\"Official Website\"]))\n",
        "        if details[\"Slika\"]:\n",
        "            print(\"Slika:\", details[\"Slika\"])\n",
        "        print(\"-\" * 40)\n",
        "else:\n",
        "    print(\"Nema rezultata za zadani upit.\")\n"
      ],
      "metadata": {
        "colab": {
          "base_uri": "https://localhost:8080/"
        },
        "id": "uwS009mzGGfm",
        "outputId": "9e30682e-922d-4fc7-820f-6d5f985a2932"
      },
      "execution_count": 3,
      "outputs": [
        {
          "output_type": "stream",
          "name": "stdout",
          "text": [
            "Entitet: http://www.wikidata.org/entity/Q6158541\n",
            "Naziv: Japanese destroyer Sakura\n",
            "Definicija: 1944 Matsu-class destroyer\n",
            "Instance of: destroyer escort, destroyer\n",
            "----------------------------------------\n",
            "Entitet: http://www.wikidata.org/entity/Q11526656\n",
            "Naziv: Sakura\n",
            "Definicija: area in Otaru, Hokkaido, Japan\n",
            "Instance of: chōchō\n",
            "Slika: http://commons.wikimedia.org/wiki/Special:FilePath/Sakura%20town%20around%20rotary%20intersection%2C%20Otaru%20city%2C%20Hokkaido%287982383476%29.jpg\n",
            "----------------------------------------\n",
            "Entitet: http://www.wikidata.org/entity/Q11537654\n",
            "Naziv: 桜\n",
            "Definicija: Nema definicije\n",
            "Instance of: double act\n",
            "----------------------------------------\n",
            "Entitet: http://www.wikidata.org/entity/Q11537655\n",
            "Naziv: 桜\n",
            "Definicija: Nema definicije\n",
            "Instance of: neighborhood in Japan\n",
            "----------------------------------------\n",
            "Entitet: http://www.wikidata.org/entity/Q11537657\n",
            "Naziv: Sakura\n",
            "Definicija: town located in Setagaya-ku, Tokyo\n",
            "Instance of: chōchō\n",
            "----------------------------------------\n",
            "Entitet: http://www.wikidata.org/entity/Q11537658\n",
            "Naziv: Sakura\n",
            "Definicija: Makoto Kawamoto song\n",
            "Instance of: single\n",
            "Part of: gobbledygook\n",
            "----------------------------------------\n",
            "Entitet: http://www.wikidata.org/entity/Q20040266\n",
            "Naziv: 桜\n",
            "Definicija: album by Kagrra,\n",
            "Instance of: album\n",
            "----------------------------------------\n",
            "Entitet: http://www.wikidata.org/entity/Q26723601\n",
            "Naziv: Japanese destroyer Sakura\n",
            "Definicija: 1911 Sakura-class destroyer\n",
            "Instance of: destroyer\n",
            "Slika: http://commons.wikimedia.org/wiki/Special:FilePath/IJN%20Sakura%20at%20Sasebo%20Taisho%207.jpg\n",
            "----------------------------------------\n",
            "Entitet: http://www.wikidata.org/entity/Q51038661\n",
            "Naziv: 桜\n",
            "Definicija: episode of Osomatsu-san\n",
            "Instance of: television series episode\n",
            "----------------------------------------\n",
            "Entitet: http://www.wikidata.org/entity/Q54901214\n",
            "Naziv: 桜\n",
            "Definicija: CJK (hanzi/kanji/hanja) character\n",
            "Instance of: kanji character, Unicode character, sinogram\n",
            "----------------------------------------\n",
            "Entitet: http://www.wikidata.org/entity/Q65271681\n",
            "Naziv: 桜\n",
            "Definicija: Nema definicije\n",
            "Instance of: single\n",
            "----------------------------------------\n",
            "Entitet: http://www.wikidata.org/entity/Q73001959\n",
            "Naziv: Sakura\n",
            "Definicija: Hanamaru Kindergarten's character\n",
            "Instance of: comics character, fictional human, animated character\n",
            "----------------------------------------\n",
            "Entitet: http://www.wikidata.org/entity/Q119344037\n",
            "Naziv: 桜\n",
            "Definicija: Nema definicije\n",
            "Instance of: single\n",
            "----------------------------------------\n",
            "Entitet: http://www.wikidata.org/entity/Q120197278\n",
            "Naziv: 桜\n",
            "Definicija: neighborhood in Japan\n",
            "Instance of: chōchō\n",
            "----------------------------------------\n",
            "Entitet: http://www.wikidata.org/entity/Q125205998\n",
            "Naziv: Sakura\n",
            "Definicija: Japanese family name (桜)\n",
            "Instance of: family name\n",
            "Part of: Sakura\n",
            "----------------------------------------\n"
          ]
        }
      ]
    },
    {
      "cell_type": "code",
      "source": [],
      "metadata": {
        "id": "j4PkTjzrzxID"
      },
      "execution_count": null,
      "outputs": []
    }
  ]
}